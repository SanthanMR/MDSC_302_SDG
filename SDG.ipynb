{
  "nbformat": 4,
  "nbformat_minor": 0,
  "metadata": {
    "colab": {
      "name": "SDG.ipynb",
      "provenance": [],
      "collapsed_sections": []
    },
    "kernelspec": {
      "name": "python3",
      "display_name": "Python 3"
    },
    "language_info": {
      "name": "python"
    }
  },
  "cells": [
    {
      "cell_type": "markdown",
      "metadata": {
        "id": "LIms6OiYk2HN"
      },
      "source": [
        "**Importing required Librires**"
      ]
    },
    {
      "cell_type": "code",
      "metadata": {
        "colab": {
          "base_uri": "https://localhost:8080/"
        },
        "id": "fVwbouCnSC94",
        "outputId": "24536bfd-bf6f-4f79-c8c4-8e7795071292"
      },
      "source": [
        "import pandas as pd\n",
        "import numpy as np\n",
        "import matplotlib.pyplot as plt\n",
        "import seaborn as sns\n",
        "from sklearn.model_selection import train_test_split\n",
        "from sklearn.feature_selection import SelectKBest, chi2, f_classif\n",
        "from sklearn.metrics import confusion_matrix,accuracy_score,classification_report, f1_score\n",
        "import nltk\n",
        "import re\n",
        "from nltk.tokenize import word_tokenize \n",
        "from nltk.corpus import stopwords\n",
        "nltk.download('stopwords')\n",
        "nltk.download('punkt')"
      ],
      "execution_count": null,
      "outputs": [
        {
          "output_type": "stream",
          "name": "stdout",
          "text": [
            "[nltk_data] Downloading package stopwords to /root/nltk_data...\n",
            "[nltk_data]   Unzipping corpora/stopwords.zip.\n",
            "[nltk_data] Downloading package punkt to /root/nltk_data...\n",
            "[nltk_data]   Unzipping tokenizers/punkt.zip.\n"
          ]
        },
        {
          "output_type": "execute_result",
          "data": {
            "text/plain": [
              "True"
            ]
          },
          "metadata": {},
          "execution_count": 1
        }
      ]
    },
    {
      "cell_type": "markdown",
      "metadata": {
        "id": "ILi2R4gwlRdY"
      },
      "source": [
        "**Importing data from a webpage**"
      ]
    },
    {
      "cell_type": "code",
      "metadata": {
        "colab": {
          "base_uri": "https://localhost:8080/",
          "height": 327
        },
        "id": "Y0c9SoKrSe3y",
        "outputId": "4d9af398-62cf-46a4-c25f-24bf069c8219"
      },
      "source": [
        "df= pd.read_csv('https://zenodo.org/record/5550238/files/osdg-community-dataset-v21-09-30.csv?download=1')\n",
        "\n",
        "print('Shape before:', df.shape)\n",
        "df = df.query('agreement >= .6 and labels_positive > labels_negative').copy()\n",
        "print('Shape after :', df.shape)\n",
        "display(df.head())"
      ],
      "execution_count": null,
      "outputs": [
        {
          "output_type": "stream",
          "name": "stdout",
          "text": [
            "Shape before: (32121, 7)\n",
            "Shape after : (17233, 7)\n"
          ]
        },
        {
          "output_type": "display_data",
          "data": {
            "text/html": [
              "<div>\n",
              "<style scoped>\n",
              "    .dataframe tbody tr th:only-of-type {\n",
              "        vertical-align: middle;\n",
              "    }\n",
              "\n",
              "    .dataframe tbody tr th {\n",
              "        vertical-align: top;\n",
              "    }\n",
              "\n",
              "    .dataframe thead th {\n",
              "        text-align: right;\n",
              "    }\n",
              "</style>\n",
              "<table border=\"1\" class=\"dataframe\">\n",
              "  <thead>\n",
              "    <tr style=\"text-align: right;\">\n",
              "      <th></th>\n",
              "      <th>doi</th>\n",
              "      <th>text_id</th>\n",
              "      <th>text</th>\n",
              "      <th>sdg</th>\n",
              "      <th>labels_negative</th>\n",
              "      <th>labels_positive</th>\n",
              "      <th>agreement</th>\n",
              "    </tr>\n",
              "  </thead>\n",
              "  <tbody>\n",
              "    <tr>\n",
              "      <th>0</th>\n",
              "      <td>10.6027/9789289342698-7-en</td>\n",
              "      <td>00021941702cd84171ff33962197ca1f</td>\n",
              "      <td>From a gender perspective, Paulgaard points ou...</td>\n",
              "      <td>5</td>\n",
              "      <td>1</td>\n",
              "      <td>7</td>\n",
              "      <td>0.750000</td>\n",
              "    </tr>\n",
              "    <tr>\n",
              "      <th>2</th>\n",
              "      <td>10.1787/9789264289062-4-en</td>\n",
              "      <td>0004eb64f96e1620cd852603d9cbe4d4</td>\n",
              "      <td>The average figure also masks large difference...</td>\n",
              "      <td>3</td>\n",
              "      <td>1</td>\n",
              "      <td>6</td>\n",
              "      <td>0.714286</td>\n",
              "    </tr>\n",
              "    <tr>\n",
              "      <th>7</th>\n",
              "      <td>10.1787/9789264117563-8-en</td>\n",
              "      <td>000bfb17e9f3a00d4515ab59c5c487e7</td>\n",
              "      <td>The Israel Oceanographic and Limnological Rese...</td>\n",
              "      <td>6</td>\n",
              "      <td>0</td>\n",
              "      <td>3</td>\n",
              "      <td>1.000000</td>\n",
              "    </tr>\n",
              "    <tr>\n",
              "      <th>8</th>\n",
              "      <td>10.18356/805b1ae4-en</td>\n",
              "      <td>001180f5dd9a821e651ed51e30d0cf8c</td>\n",
              "      <td>Previous chapters have discussed ways to make ...</td>\n",
              "      <td>2</td>\n",
              "      <td>0</td>\n",
              "      <td>3</td>\n",
              "      <td>1.000000</td>\n",
              "    </tr>\n",
              "    <tr>\n",
              "      <th>11</th>\n",
              "      <td>10.1787/9789264310278-en</td>\n",
              "      <td>001f1aee4013cb098da17a979c38bc57</td>\n",
              "      <td>Prescription rates appear to be higher where l...</td>\n",
              "      <td>8</td>\n",
              "      <td>0</td>\n",
              "      <td>3</td>\n",
              "      <td>1.000000</td>\n",
              "    </tr>\n",
              "  </tbody>\n",
              "</table>\n",
              "</div>"
            ],
            "text/plain": [
              "                           doi  ... agreement\n",
              "0   10.6027/9789289342698-7-en  ...  0.750000\n",
              "2   10.1787/9789264289062-4-en  ...  0.714286\n",
              "7   10.1787/9789264117563-8-en  ...  1.000000\n",
              "8         10.18356/805b1ae4-en  ...  1.000000\n",
              "11    10.1787/9789264310278-en  ...  1.000000\n",
              "\n",
              "[5 rows x 7 columns]"
            ]
          },
          "metadata": {}
        }
      ]
    },
    {
      "cell_type": "markdown",
      "metadata": {
        "id": "N-jvuMeIlecT"
      },
      "source": [
        "keeping only the texts whose suggested sdg labels is accepted and the agreement score is at least .6 and seeing the head of the dataframe"
      ]
    },
    {
      "cell_type": "code",
      "metadata": {
        "id": "c0wcblWoS_wA"
      },
      "source": [
        "stopwords= stopwords.words('english')\n",
        "def cleanText(text):\n",
        "    text = re.sub(r'''!\\(\\)-\\[]\\{};:'\"\\,<>./?@#$%^&*_~''', r' ', text) \n",
        "    text = text.lower()\n",
        "    text = text.replace(',', '')\n",
        "    tokens = nltk.word_tokenize(text)\n",
        "    wordlist = [] \n",
        "    for w in tokens:\n",
        "      if w not in stopwords:\n",
        "        if w.isalpha():\n",
        "          wordlist.append(w)\n",
        "\n",
        "    clean_text = ' '.join(wordlist)\n",
        "    return clean_text\n",
        "    \n",
        "df['clean_text'] = df['text'].apply(cleanText)"
      ],
      "execution_count": null,
      "outputs": []
    },
    {
      "cell_type": "markdown",
      "metadata": {
        "id": "1L_-_UwOlxJt"
      },
      "source": [
        "Cleaning the Data using stopwords. First we select the language and then we remove the unwanted symbols. Then after, we remove the stop words like a, an is e.t.c"
      ]
    },
    {
      "cell_type": "code",
      "metadata": {
        "id": "qPhdt1trTOIT"
      },
      "source": [
        "def plot_confusion_matrix(y_true: np.ndarray, y_hat: np.ndarray, figsize = (15, 10)):\n",
        "    labels = sorted(list(set(y_true)))\n",
        "    df = pd.DataFrame(confusion_matrix(y_true, y_hat), index = labels, columns = labels)\n",
        "    acc = accuracy_score(y_true, y_hat)\n",
        "    f1s = f1_score(y_true, y_hat, average = 'weighted')\n",
        "    fig, ax = plt.subplots(figsize = figsize)\n",
        "    sns.heatmap(df, annot = True, square = True, fmt = 'd', linewidths = 1,cbar = False, cmap = 'Paired', ax = ax)\n",
        "    ax.set(title = f'Accuracy: {acc:.2f}, F1 score: {f1s:.2f}', xlabel = 'Predicted', ylabel = 'Actual')\n",
        "    fig.suptitle('Confusion Matrix')\n",
        "    plt.tight_layout()"
      ],
      "execution_count": null,
      "outputs": []
    },
    {
      "cell_type": "markdown",
      "metadata": {
        "id": "B2zTM6dymaQb"
      },
      "source": [
        "defining a function for printing a confusion matrix"
      ]
    },
    {
      "cell_type": "code",
      "metadata": {
        "colab": {
          "base_uri": "https://localhost:8080/"
        },
        "id": "tH0Sky8uTbKA",
        "outputId": "edc4f88f-f446-40da-b7a2-8638e34a69d3"
      },
      "source": [
        "from sklearn.feature_extraction.text import TfidfVectorizer\n",
        "X = df['clean_text']\n",
        "y = df['sdg']\n",
        "X_train, X_test, y_train, y_test = train_test_split(df['clean_text'], df['sdg'], test_size = .3, random_state = 42)\n",
        "\n",
        "print('Train shape:', X_train.shape)\n",
        "print('Test shape:', X_test.shape)"
      ],
      "execution_count": null,
      "outputs": [
        {
          "output_type": "stream",
          "name": "stdout",
          "text": [
            "Train shape: (12063,)\n",
            "Test shape: (5170,)\n"
          ]
        }
      ]
    },
    {
      "cell_type": "markdown",
      "metadata": {
        "id": "CLA6UbBymz7p"
      },
      "source": [
        "Using TfidfVectorizer to tokenize documents, learn the vocabulary"
      ]
    },
    {
      "cell_type": "code",
      "metadata": {
        "colab": {
          "base_uri": "https://localhost:8080/"
        },
        "id": "NjNE6PT5TduT",
        "outputId": "193ca965-efa3-43df-8dd8-d78c2b667387"
      },
      "source": [
        "from sklearn.pipeline import Pipeline\n",
        "from sklearn.linear_model import LogisticRegression\n",
        "\n",
        "pipe = Pipeline([\n",
        "    ('vectoriser', TfidfVectorizer(\n",
        "        ngram_range = (1, 2),\n",
        "        max_df = 0.75,\n",
        "        min_df = 2,\n",
        "        max_features = 100_000\n",
        "    )),\n",
        "    ('selector', SelectKBest(f_classif, k = 5_000)),\n",
        "    ('clf', LogisticRegression(\n",
        "        penalty = 'l2',\n",
        "        C = .9,\n",
        "        multi_class = 'multinomial',\n",
        "        class_weight = 'balanced',\n",
        "        solver = 'newton-cg',\n",
        "        max_iter = 100\n",
        "    ))\n",
        "])\n",
        "\n",
        "pipe.fit(X_train, y_train)"
      ],
      "execution_count": null,
      "outputs": [
        {
          "output_type": "execute_result",
          "data": {
            "text/plain": [
              "Pipeline(steps=[('vectoriser',\n",
              "                 TfidfVectorizer(max_df=0.75, max_features=100000, min_df=2,\n",
              "                                 ngram_range=(1, 2))),\n",
              "                ('selector', SelectKBest(k=5000)),\n",
              "                ('clf',\n",
              "                 LogisticRegression(C=0.9, class_weight='balanced',\n",
              "                                    multi_class='multinomial',\n",
              "                                    solver='newton-cg'))])"
            ]
          },
          "metadata": {},
          "execution_count": 6
        }
      ]
    },
    {
      "cell_type": "markdown",
      "metadata": {
        "id": "fw-iP9RWm8ct"
      },
      "source": [
        "Creating a model using a pipeline with vectorizer, selector and a logestic regression model with some hyperparameters. I tried diffrent models but found that logestic regression is the best model"
      ]
    },
    {
      "cell_type": "code",
      "metadata": {
        "colab": {
          "base_uri": "https://localhost:8080/",
          "height": 729
        },
        "id": "UWZ1Uxy3TftQ",
        "outputId": "0e0d0f3f-fa84-4de0-fa67-15445142f741"
      },
      "source": [
        "y_hat = pipe.predict(X_test)\n",
        "plot_confusion_matrix(y_test, y_hat)"
      ],
      "execution_count": null,
      "outputs": [
        {
          "output_type": "display_data",
          "data": {
            "image/png": "[encoded data removed]",
            "text/plain": [
              "<Figure size 1080x720 with 1 Axes>"
            ]
          },
          "metadata": {
            "needs_background": "light"
          }
        }
      ]
    },
    {
      "cell_type": "code",
      "metadata": {
        "colab": {
          "base_uri": "https://localhost:8080/"
        },
        "id": "cY0aKrdUThlv",
        "outputId": "59292f76-f424-48b9-c5c9-b018a0fb2eec"
      },
      "source": [
        "print(classification_report(y_test, y_hat, zero_division = 0))"
      ],
      "execution_count": null,
      "outputs": [
        {
          "output_type": "stream",
          "name": "stdout",
          "text": [
            "              precision    recall  f1-score   support\n",
            "\n",
            "           1       0.85      0.75      0.80       337\n",
            "           2       0.81      0.84      0.83       256\n",
            "           3       0.93      0.91      0.92       572\n",
            "           4       0.94      0.92      0.93       701\n",
            "           5       0.93      0.91      0.92       697\n",
            "           6       0.92      0.89      0.91       388\n",
            "           7       0.92      0.86      0.89       476\n",
            "           8       0.61      0.68      0.65       245\n",
            "           9       0.60      0.76      0.67       211\n",
            "          10       0.51      0.61      0.55       126\n",
            "          11       0.86      0.84      0.85       379\n",
            "          12       0.65      0.78      0.71        77\n",
            "          13       0.85      0.87      0.86       310\n",
            "          14       0.97      0.93      0.95       220\n",
            "          15       0.88      0.85      0.86       175\n",
            "\n",
            "    accuracy                           0.86      5170\n",
            "   macro avg       0.82      0.83      0.82      5170\n",
            "weighted avg       0.86      0.86      0.86      5170\n",
            "\n"
          ]
        }
      ]
    },
    {
      "cell_type": "markdown",
      "metadata": {
        "id": "Tacyffd2oJLY"
      },
      "source": [
        "printing precision recall f1-score of the 15 SDGS"
      ]
    },
    {
      "cell_type": "code",
      "metadata": {
        "colab": {
          "base_uri": "https://localhost:8080/",
          "height": 223
        },
        "id": "oZ_z1w8mTkfu",
        "outputId": "6b013f70-995a-4407-e55f-ff7dcbe07bac"
      },
      "source": [
        "vectoriser = pipe['vectoriser']\n",
        "selector = pipe['selector']\n",
        "clf = pipe['clf']\n",
        "\n",
        "top_n = 15\n",
        "features =  pipe['vectoriser'].get_feature_names_out()\n",
        "if selector is not None:\n",
        "    features = features[selector.get_support()]\n",
        "axis_names = [f'freature_{x + 1}' for x in range(top_n)]\n",
        "\n",
        "if len(clf.classes_) > 2:\n",
        "    results = list()\n",
        "    for c, coefs in zip(clf.classes_, clf.coef_):\n",
        "        idx = coefs.argsort()[::-1][:top_n]\n",
        "        results.extend(tuple(zip([c] * top_n, features[idx], coefs[idx])))\n",
        "else:\n",
        "  coefs = clf.coef_.flatten()\n",
        "  idx = coefs.argsort()[::-1][:top_n]\n",
        "  results = tuple(zip([clf.classes_[1]] * top_n, features[idx], coefs[idx]))\n",
        "\n",
        "df_lambda = pd.DataFrame(results, columns =  ['sdg', 'feature', 'coef'])\n",
        "print('Shape:', df_lambda.shape)\n",
        "display(df_lambda.head())"
      ],
      "execution_count": null,
      "outputs": [
        {
          "output_type": "stream",
          "name": "stdout",
          "text": [
            "Shape: (225, 3)\n"
          ]
        },
        {
          "output_type": "display_data",
          "data": {
            "text/html": [
              "<div>\n",
              "<style scoped>\n",
              "    .dataframe tbody tr th:only-of-type {\n",
              "        vertical-align: middle;\n",
              "    }\n",
              "\n",
              "    .dataframe tbody tr th {\n",
              "        vertical-align: top;\n",
              "    }\n",
              "\n",
              "    .dataframe thead th {\n",
              "        text-align: right;\n",
              "    }\n",
              "</style>\n",
              "<table border=\"1\" class=\"dataframe\">\n",
              "  <thead>\n",
              "    <tr style=\"text-align: right;\">\n",
              "      <th></th>\n",
              "      <th>sdg</th>\n",
              "      <th>feature</th>\n",
              "      <th>coef</th>\n",
              "    </tr>\n",
              "  </thead>\n",
              "  <tbody>\n",
              "    <tr>\n",
              "      <th>0</th>\n",
              "      <td>1</td>\n",
              "      <td>poverty</td>\n",
              "      <td>13.091357</td>\n",
              "    </tr>\n",
              "    <tr>\n",
              "      <th>1</th>\n",
              "      <td>1</td>\n",
              "      <td>poor</td>\n",
              "      <td>7.180285</td>\n",
              "    </tr>\n",
              "    <tr>\n",
              "      <th>2</th>\n",
              "      <td>1</td>\n",
              "      <td>income</td>\n",
              "      <td>4.733363</td>\n",
              "    </tr>\n",
              "    <tr>\n",
              "      <th>3</th>\n",
              "      <td>1</td>\n",
              "      <td>children</td>\n",
              "      <td>4.498303</td>\n",
              "    </tr>\n",
              "    <tr>\n",
              "      <th>4</th>\n",
              "      <td>1</td>\n",
              "      <td>deprivation</td>\n",
              "      <td>4.315738</td>\n",
              "    </tr>\n",
              "  </tbody>\n",
              "</table>\n",
              "</div>"
            ],
            "text/plain": [
              "   sdg      feature       coef\n",
              "0    1      poverty  13.091357\n",
              "1    1         poor   7.180285\n",
              "2    1       income   4.733363\n",
              "3    1     children   4.498303\n",
              "4    1  deprivation   4.315738"
            ]
          },
          "metadata": {}
        }
      ]
    },
    {
      "cell_type": "code",
      "metadata": {
        "id": "E0nUt90fTpCx"
      },
      "source": [
        "import pickle\n",
        "filename = 'final_model.sav'\n",
        "pickle.dump(pipe, open(filename, 'wb'))\n",
        "\n",
        "load_model = pickle.load(open(filename, 'rb'))"
      ],
      "execution_count": null,
      "outputs": []
    },
    {
      "cell_type": "markdown",
      "metadata": {
        "id": "pAeP7C3vok_1"
      },
      "source": [
        "creating a pickle file to store the weights of the model"
      ]
    },
    {
      "cell_type": "code",
      "metadata": {
        "id": "zn2Eb2rlVVix"
      },
      "source": [
        ""
      ],
      "execution_count": null,
      "outputs": []
    }
  ]
}